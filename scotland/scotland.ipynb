{
 "cells": [
  {
   "cell_type": "code",
   "execution_count": 1,
   "metadata": {},
   "outputs": [],
   "source": [
    "%load_ext autoreload \n",
    "%autoreload 2 \n",
    "import tourmapper\n",
    "import csv"
   ]
  },
  {
   "cell_type": "code",
   "execution_count": 2,
   "metadata": {},
   "outputs": [
    {
     "name": "stdout",
     "output_type": "stream",
     "text": [
      "Parsing Scotland_5_6_the_far_north.gpx\n",
      "Parsing Scotland_2_6_Applecross.gpx\n",
      "Parsing Scotland_3_6_Kinlochewe.gpx\n",
      "Parsing Scotland_1_6_the_Trossachs.gpx\n",
      "Parsing Scotland_6_6_Cairngorms_.gpx\n",
      "Parsing Scotland_4_6_the_most_beautiful_road_in_the_UK_.gpx\n",
      "743.0797904061186 9241.0\n"
     ]
    }
   ],
   "source": [
    "rides = tourmapper.load_rides('rides')\n",
    "\n",
    "dist, climb = 0,0\n",
    "for r in rides: \n",
    "    dist += r['distance'].sum()\n",
    "    climb += r['climb'].sum()\n",
    "\n",
    "print(dist / 1000, climb)"
   ]
  },
  {
   "cell_type": "code",
   "execution_count": 3,
   "metadata": {},
   "outputs": [],
   "source": [
    "ride_text = [] \n",
    "with open('scotland.csv') as f: \n",
    "    reader = csv.reader(f)\n",
    "    next(reader)\n",
    "    for idx,((name,link,desc),df) in enumerate(zip(reader,rides)): \n",
    "        text = f\"\"\"Stage {idx+1}: {name} <br>\n",
    "                    {df['distance'].sum() / 1000:.1f}km, \n",
    "                    {df['climb'].sum():.0f}m ascent <br>\n",
    "                    {desc} <br>\n",
    "                    <a href=\"{link}\">Strava link</a> \"\"\"\n",
    "        ride_text.append(text)"
   ]
  },
  {
   "cell_type": "code",
   "execution_count": 4,
   "metadata": {},
   "outputs": [
    {
     "name": "stdout",
     "output_type": "stream",
     "text": [
      "Parsing Scotland_5_6_the_far_north.gpx\n",
      "Parsing Scotland_2_6_Applecross.gpx\n",
      "Parsing Scotland_3_6_Kinlochewe.gpx\n",
      "Parsing Scotland_1_6_the_Trossachs.gpx\n",
      "Parsing Scotland_6_6_Cairngorms_.gpx\n",
      "Parsing Scotland_4_6_the_most_beautiful_road_in_the_UK_.gpx\n",
      "Found 67 images in '/Users/thomaskirk/Jobs/personal_git/assets/images/scotland'\n",
      "Remote image URL base supplied, images will load on demand\n",
      "Writing output to 'scotland.html'\n"
     ]
    }
   ],
   "source": [
    "map_params = dict(\n",
    "    tiles = 'http://{s}.google.com/vt/lyrs=p&x={x}&y={y}&z={z}',\n",
    "    attr = 'attr',\n",
    "    subdomains = ['mt0','mt1','mt2','mt3'],\n",
    ")\n",
    "\n",
    "gps_dir = 'rides'\n",
    "image_dir = '/Users/thomaskirk/Jobs/personal_git/assets/images/scotland'\n",
    "remote_url = \"https://tomfrankkirk.github.io/assets/images/scotland\"\n",
    "\n",
    "m = tourmapper.make_map(gps_dir, ride_text=ride_text, image_dir=image_dir, \n",
    "                        remote_image_url=remote_url, outpath='scotland.html')"
   ]
  },
  {
   "cell_type": "code",
   "execution_count": null,
   "metadata": {},
   "outputs": [],
   "source": []
  }
 ],
 "metadata": {
  "interpreter": {
   "hash": "eba1d1c20c1266b0b739283bcae3b80f87cfd68bd6499ee2b8a38b4b87808e72"
  },
  "kernelspec": {
   "display_name": "Python 3.9.9 ('tdf')",
   "language": "python",
   "name": "python3"
  },
  "language_info": {
   "codemirror_mode": {
    "name": "ipython",
    "version": 3
   },
   "file_extension": ".py",
   "mimetype": "text/x-python",
   "name": "python",
   "nbconvert_exporter": "python",
   "pygments_lexer": "ipython3",
   "version": "3.9.9"
  },
  "orig_nbformat": 4
 },
 "nbformat": 4,
 "nbformat_minor": 2
}
